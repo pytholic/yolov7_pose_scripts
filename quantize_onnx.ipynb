{
 "cells": [
  {
   "cell_type": "code",
   "execution_count": 1,
   "metadata": {},
   "outputs": [],
   "source": [
    "import onnx\n",
    "import onnxruntime\n",
    "import numpy as np\n",
    "from onnxruntime.quantization import quantize_static, QuantType, QuantFormat, CalibrationDataReader, CalibrationMethod"
   ]
  },
  {
   "cell_type": "code",
   "execution_count": 2,
   "metadata": {},
   "outputs": [],
   "source": [
    "model_fp32 = './temp/yolov7-w6-pose.onnx'\n",
    "model_quant = './temp/yolov7-w6-pose_quant.onnx'\n",
    "onnx_model = onnx.load(model_fp32)"
   ]
  },
  {
   "cell_type": "code",
   "execution_count": 3,
   "metadata": {},
   "outputs": [
    {
     "name": "stdout",
     "output_type": "stream",
     "text": [
      "The model is valid!\n"
     ]
    }
   ],
   "source": [
    "# Check the model\n",
    "try:\n",
    "    onnx.checker.check_model(onnx_model)\n",
    "except onnx.checker.ValidationError as e:\n",
    "    print(\"The model is invalid: %s\" % e)\n",
    "else:\n",
    "    print(\"The model is valid!\")"
   ]
  },
  {
   "cell_type": "code",
   "execution_count": 10,
   "metadata": {},
   "outputs": [],
   "source": [
    "# DataReader\n",
    "class CalibrationDataProvider(CalibrationDataReader):\n",
    "    def __init__(self):\n",
    "        super(CalibrationDataProvider, self).__init__()\n",
    "        self.counter = 0\n",
    "\n",
    "    def get_next(self):\n",
    "        if self.counter > 2:\n",
    "            return None\n",
    "        else:\n",
    "            self.counter += 1\n",
    "            return {'images': np.random.randn(1, 3, 1280, 768).astype(np.float32)}"
   ]
  },
  {
   "cell_type": "code",
   "execution_count": 11,
   "metadata": {},
   "outputs": [],
   "source": [
    "dr = CalibrationDataProvider()"
   ]
  },
  {
   "cell_type": "code",
   "execution_count": 12,
   "metadata": {},
   "outputs": [],
   "source": [
    "quantized_model = quantize_static(model_fp32,\n",
    "                model_quant,\n",
    "                dr,\n",
    "                quant_format=QuantFormat.QDQ,\n",
    "                optimize_model=True,\n",
    "                activation_type=QuantType.QInt8,\n",
    "                weight_type=QuantType.QInt8,\n",
    "                calibrate_method=CalibrationMethod.MinMax)"
   ]
  },
  {
   "cell_type": "code",
   "execution_count": null,
   "metadata": {},
   "outputs": [],
   "source": []
  }
 ],
 "metadata": {
  "kernelspec": {
   "display_name": "Python 3.9.12 ('yolov7')",
   "language": "python",
   "name": "python3"
  },
  "language_info": {
   "codemirror_mode": {
    "name": "ipython",
    "version": 3
   },
   "file_extension": ".py",
   "mimetype": "text/x-python",
   "name": "python",
   "nbconvert_exporter": "python",
   "pygments_lexer": "ipython3",
   "version": "3.9.12"
  },
  "orig_nbformat": 4,
  "vscode": {
   "interpreter": {
    "hash": "e0e8bca0831163291e79f9b6b6e6f216833b91eed1f36ba81ddb336ff79c95d4"
   }
  }
 },
 "nbformat": 4,
 "nbformat_minor": 2
}
